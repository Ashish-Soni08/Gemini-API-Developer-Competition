{
 "cells": [
  {
   "cell_type": "code",
   "execution_count": 1,
   "metadata": {},
   "outputs": [],
   "source": [
    "import os\n",
    "from constants import (EMBEDDING_MODEL,\n",
    "                       LLAMAPARSE_API_KEY,\n",
    "                       LLM,\n",
    "                       LANGCHAIN_API_KEY,\n",
    "                       LANGCHAIN_PROJECT,\n",
    "                       LANGCHAIN_URL,\n",
    "                       GEMINIPRO_API_KEY,\n",
    "                       QDRANT_API_KEY,\n",
    "                       QDRANT_CLUSTER)\n",
    "\n",
    "from pprint import pprint"
   ]
  },
  {
   "cell_type": "code",
   "execution_count": 2,
   "metadata": {},
   "outputs": [],
   "source": [
    "os.environ[\"LANGCHAIN_API_KEY\"] = LANGCHAIN_API_KEY\n",
    "os.environ[\"LANGCHAIN_TRACING_V2\"] = \"true\"\n",
    "os.environ[\"LANGCHAIN_ENDPOINT\"] = LANGCHAIN_URL\n",
    "os.environ[\"LANGCHAIN_PROJECT\"] = LANGCHAIN_PROJECT"
   ]
  },
  {
   "cell_type": "markdown",
   "metadata": {},
   "source": [
    "### Check Access to Gemini 1.5 Pro is available"
   ]
  },
  {
   "cell_type": "code",
   "execution_count": 2,
   "metadata": {},
   "outputs": [],
   "source": [
    "import pathlib\n",
    "import textwrap\n",
    "\n",
    "from IPython.display import display\n",
    "from IPython.display import Markdown\n",
    "\n",
    "def to_markdown(text):\n",
    "  text = text.replace('•', '  *')\n",
    "  return Markdown(textwrap.indent(text, '> ', predicate=lambda _: True))"
   ]
  },
  {
   "cell_type": "code",
   "execution_count": 3,
   "metadata": {},
   "outputs": [],
   "source": [
    "import google.generativeai as genai\n"
   ]
  },
  {
   "cell_type": "code",
   "execution_count": 4,
   "metadata": {},
   "outputs": [],
   "source": [
    "genai.configure(api_key=GEMINIPRO_API_KEY)"
   ]
  },
  {
   "cell_type": "code",
   "execution_count": 10,
   "metadata": {},
   "outputs": [
    {
     "name": "stdout",
     "output_type": "stream",
     "text": [
      "'models/chat-bison-001'\n",
      "'models/text-bison-001'\n",
      "'models/embedding-gecko-001'\n",
      "'models/gemini-1.0-pro'\n",
      "'models/gemini-1.0-pro-001'\n",
      "'models/gemini-1.0-pro-latest'\n",
      "'models/gemini-1.0-pro-vision-latest'\n",
      "'models/gemini-1.5-pro-latest'\n",
      "'models/gemini-pro'\n",
      "'models/gemini-pro-vision'\n",
      "'models/embedding-001'\n",
      "'models/text-embedding-004'\n",
      "'models/aqa'\n"
     ]
    }
   ],
   "source": [
    "for m in genai.list_models():\n",
    "    if 'generateContent' or 'embedContent' in m.supported_generation_methods:\n",
    "        pprint(m.name)"
   ]
  },
  {
   "cell_type": "markdown",
   "metadata": {},
   "source": [
    "# Data Preparation - ETL(Extract, Transform, Load)"
   ]
  },
  {
   "cell_type": "markdown",
   "metadata": {},
   "source": [
    "## LLamaParse to Parse PDF to Markdown"
   ]
  },
  {
   "cell_type": "code",
   "execution_count": 16,
   "metadata": {},
   "outputs": [],
   "source": [
    "from llama_parse import LlamaParse"
   ]
  },
  {
   "cell_type": "code",
   "execution_count": 17,
   "metadata": {},
   "outputs": [],
   "source": [
    "import nest_asyncio\n",
    "\n",
    "nest_asyncio.apply()"
   ]
  },
  {
   "cell_type": "code",
   "execution_count": 18,
   "metadata": {},
   "outputs": [],
   "source": [
    "parser = LlamaParse(\n",
    "    api_key=LLAMAPARSE_API_KEY,\n",
    "    result_type=\"markdown\"  # \"markdown\" and \"text\" are available\n",
    ")"
   ]
  },
  {
   "cell_type": "code",
   "execution_count": 19,
   "metadata": {},
   "outputs": [
    {
     "name": "stdout",
     "output_type": "stream",
     "text": [
      "Started parsing the file under job_id c279b3bd-ff48-4bbc-a60d-21d4b85d0e22\n"
     ]
    }
   ],
   "source": [
    "documents = parser.load_data(\"data/Master_Thesis_Aidana.pdf\")"
   ]
  },
  {
   "cell_type": "code",
   "execution_count": 20,
   "metadata": {},
   "outputs": [
    {
     "name": "stdout",
     "output_type": "stream",
     "text": [
      "Total Number of Documents -> 1\n"
     ]
    }
   ],
   "source": [
    "print(\"Total Number of Documents ->\", len(documents))"
   ]
  },
  {
   "cell_type": "code",
   "execution_count": 21,
   "metadata": {},
   "outputs": [
    {
     "data": {
      "text/plain": [
       "list"
      ]
     },
     "execution_count": 21,
     "metadata": {},
     "output_type": "execute_result"
    }
   ],
   "source": [
    "type(documents)"
   ]
  },
  {
   "cell_type": "code",
   "execution_count": 22,
   "metadata": {},
   "outputs": [],
   "source": [
    "from llama_index.core.node_parser import MarkdownNodeParser\n",
    "\n",
    "markdown_parser = MarkdownNodeParser()\n",
    "nodes = markdown_parser.get_nodes_from_documents(documents, include_metadata=True, include_prev_next_rel=True)"
   ]
  },
  {
   "cell_type": "code",
   "execution_count": 23,
   "metadata": {},
   "outputs": [
    {
     "data": {
      "text/plain": [
       "45"
      ]
     },
     "execution_count": 23,
     "metadata": {},
     "output_type": "execute_result"
    }
   ],
   "source": [
    "len(nodes)"
   ]
  },
  {
   "cell_type": "code",
   "execution_count": 26,
   "metadata": {},
   "outputs": [
    {
     "data": {
      "text/plain": [
       "'MarkdownNodeParser'"
      ]
     },
     "execution_count": 26,
     "metadata": {},
     "output_type": "execute_result"
    }
   ],
   "source": [
    "markdown_parser.class_name()"
   ]
  },
  {
   "cell_type": "code",
   "execution_count": 29,
   "metadata": {},
   "outputs": [
    {
     "data": {
      "text/plain": [
       "[TextNode(id_='01a78bfd-6517-4be0-b892-e978c2f620a0', embedding=None, metadata={}, excluded_embed_metadata_keys=[], excluded_llm_metadata_keys=[], relationships={<NodeRelationship.SOURCE: '1'>: RelatedNodeInfo(node_id='d9883ffd-3f4c-417f-ad80-d000e5fb10b7', node_type=<ObjectType.TEXT: '1'>, metadata={'Header_2': 'Introduction (Kassymbekova & Marat, 2022: 5)'}, hash='a5461bdde39ffe23e8d0436e5cf797ceb1d26f50be74d8f326a58b51ac77fba2')}, text='Introduction (Kassymbekova & Marat, 2022: 5)\\n\\nWith the escalation of the conflict between Russia and Ukraine and the ongoing war that began in February 2022 to undermine the independence of sovereign Ukraine, the Kremlin’s agenda and foreign policy are attracting increasing attention and deeper analysis from the academic world and major media (Mankoff, 2022: 1). Growing concerns about the Kremlin’s “imperialist” attitude and policies, pressures and Russia’s latent threat to some countries of “near abroad” put the topic of Russia’s still existing colonialist approach and mentality at the forefront of many political debates (Expert Institute for Social Research, 2023: 10, 14). In this context, Ukrainian and Western politicians and the media talk about the future of Russia and the need for decolonization, which has caught the attention of Russian academics and politicians (ibid: 7).\\n\\nTo begin with, it is crucial to note that Russia, unlike any other colonizing country, was simultaneously a colony. Historically, it represented an imperial power that colonized and enslaved many other countries and peoples, with some of its parts also being colonies. While Soviet academics accused the West of imperialism and colonial history, some experts argue that both of Russia’s predecessors were, indeed, colonial powers of their own. Tsarist Russia went hand in hand with extreme aggressiveness, colonization, and imperialization from the beginning (Horvath, 1972: 45).\\n\\nThe Russian Empire featured unequal attitudes and approaches between the Russified, though in some cases coercive, “metropolis” or ruling elite and the non-Russian peoples living on the periphery, which resulted in their inability to be fully incorporated into a unified nation. When it comes to the Soviet Union, the situation is somewhat contradictory. The ideas underlying the creation of “the voluntary union” run counter to the imperialist features. Lenin preached equality of nations with non-exploitive relations, wanting to integrate other countries into his model of the state. Nevertheless, imperialist relations persisted in the USSR, where the power structure and resources were centralized in the metropolis, and other units remained exploited. Given that decision-making power was entirely concentrated in Moscow, the\\n---\\nRelationship between the capital and all other republics and regions could be characterized as a subordination of the periphery to the metropolis, as in the tsarist empire, despite its original intentions (Suny, 2001: 50-55).\\n\\nContemporary Russia, however, is legally a federation of semi-presidential republics. It comprises eighty-three regions, comprising forty-six oblasts, twenty-one republics, nine krais, four autonomous districts, one autonomous oblast, and two cities of federal significance. Eight federal districts unite the regions. Each district has a federal representative whom the president appoints. They are the main link between the regions and the federal government (StatData.ru, 2023). According to the latest open census of 2010, Russia has a population of over 140 million and is primarily made up of ethnic Russians, 70 percent of whom identify as Orthodox Christians. It is important to note that the country is ethnically, religiously, and regionally highly diverse. It is estimated that there are about 25 million Muslims and, in addition, 170 different ethnic groups in Russia (Rosstat, 2010; Heinemann-Grüder, 2013: 5). Indeed, these numbers show the multicultural environment of the country. However, according to many historians and scholars, including Heinemann-Grüder, it developed as a result of territorial expansion, exploitation, and colonization that began during the Tsarist Empire (2013: 5). It is crucial, for one, to determine to what extent the violence against indigenous peoples has stopped since the end of the Tsarist Empire and whether present-day Russia is repeating the actions of its predecessors.\\n\\nGosart, in her study on structural violence against indigenous communities in contemporary Russia, reveals that structural violence is embedded in the Russian state in its attitude toward indigenous communities. The needs of these communities are separated from the interests and functions of the state, following the path of Soviet-era laws and viewpoints. Therefore, indigenous peoples born on Russian territories are subjected to violence and neglect through state administration and law enforcement (Gosart, 2018: 193).\\n\\nFurthermore, indigenous populations are severely declining, and some communities are at risk of extinction. Despite this concern, the “partial mobilization” into the Russian army due to the war in Ukraine, which took place in September 2022, strongly affected primarily indigenous peoples. The first and second waves mobilized young people from Russia’s poorest regions, inhabited mainly by indigenous peoples, even those who are not eligible for military service.\\n\\n1This paper does not consider the annexed and occupied territories of Crimea, Donetsk, Luhansk, Kherson, and Zaporizhia as Russian territory. The author of the thesis deducted these territories from the list.\\n---\\nAccording to Article 18 of Federal Law No. 31-FZ of 1997, these include: students, the elderly, the disabled, and fathers of three or more children. This move by the Russian state and officials directly threatens physical survival and contributes to decreasing the indigenous population or their extinction. Many activists have called this act a new genocide (ADC Memorial & ICIPR, 2023: 23). The report cites numerous supporting facts and evidence to corroborate this statement. As a case in point, the mortality statistics for soldiers from Russia, presented by the Free Buryatia Foundation, show a disparity in the deaths of mobilized indigenous men compared to those of Moscow. Indigenous activists, thus, concluded that, say, Buryats have a 300 times higher risk of being killed in the war than residents of Moscow despite the population difference (ibid: 24).\\n\\nThe obvious implication is that the political system in contemporary Russia creates conditions for the continuation and intensification of structural violence against indigenous peoples and their further marginalization. The state can be held responsible for the harsh living conditions, discrimination, and population decrease that indigenous communities face (Gosart, 2018: 257).\\n\\nThus, when discussing Russia’s future, the question of decolonization arises as a way of addressing the ongoing injustice and exploitation, as well as achieving peace in the region and ceasing conflicts.', start_char_idx=None, end_char_idx=None, text_template='{metadata_str}\\n\\n{content}', metadata_template='{key}: {value}', metadata_seperator='\\n')]"
      ]
     },
     "execution_count": 29,
     "metadata": {},
     "output_type": "execute_result"
    }
   ],
   "source": [
    "markdown_parser.get_nodes_from_node(nodes[1])"
   ]
  },
  {
   "cell_type": "code",
   "execution_count": 24,
   "metadata": {},
   "outputs": [
    {
     "data": {
      "text/markdown": [
       "> Introduction (Kassymbekova & Marat, 2022: 5)\n",
       "> \n",
       "> With the escalation of the conflict between Russia and Ukraine and the ongoing war that began in February 2022 to undermine the independence of sovereign Ukraine, the Kremlin’s agenda and foreign policy are attracting increasing attention and deeper analysis from the academic world and major media (Mankoff, 2022: 1). Growing concerns about the Kremlin’s “imperialist” attitude and policies, pressures and Russia’s latent threat to some countries of “near abroad” put the topic of Russia’s still existing colonialist approach and mentality at the forefront of many political debates (Expert Institute for Social Research, 2023: 10, 14). In this context, Ukrainian and Western politicians and the media talk about the future of Russia and the need for decolonization, which has caught the attention of Russian academics and politicians (ibid: 7).\n",
       "> \n",
       "> To begin with, it is crucial to note that Russia, unlike any other colonizing country, was simultaneously a colony. Historically, it represented an imperial power that colonized and enslaved many other countries and peoples, with some of its parts also being colonies. While Soviet academics accused the West of imperialism and colonial history, some experts argue that both of Russia’s predecessors were, indeed, colonial powers of their own. Tsarist Russia went hand in hand with extreme aggressiveness, colonization, and imperialization from the beginning (Horvath, 1972: 45).\n",
       "> \n",
       "> The Russian Empire featured unequal attitudes and approaches between the Russified, though in some cases coercive, “metropolis” or ruling elite and the non-Russian peoples living on the periphery, which resulted in their inability to be fully incorporated into a unified nation. When it comes to the Soviet Union, the situation is somewhat contradictory. The ideas underlying the creation of “the voluntary union” run counter to the imperialist features. Lenin preached equality of nations with non-exploitive relations, wanting to integrate other countries into his model of the state. Nevertheless, imperialist relations persisted in the USSR, where the power structure and resources were centralized in the metropolis, and other units remained exploited. Given that decision-making power was entirely concentrated in Moscow, the\n",
       "> ---\n",
       "> Relationship between the capital and all other republics and regions could be characterized as a subordination of the periphery to the metropolis, as in the tsarist empire, despite its original intentions (Suny, 2001: 50-55).\n",
       "> \n",
       "> Contemporary Russia, however, is legally a federation of semi-presidential republics. It comprises eighty-three regions, comprising forty-six oblasts, twenty-one republics, nine krais, four autonomous districts, one autonomous oblast, and two cities of federal significance. Eight federal districts unite the regions. Each district has a federal representative whom the president appoints. They are the main link between the regions and the federal government (StatData.ru, 2023). According to the latest open census of 2010, Russia has a population of over 140 million and is primarily made up of ethnic Russians, 70 percent of whom identify as Orthodox Christians. It is important to note that the country is ethnically, religiously, and regionally highly diverse. It is estimated that there are about 25 million Muslims and, in addition, 170 different ethnic groups in Russia (Rosstat, 2010; Heinemann-Grüder, 2013: 5). Indeed, these numbers show the multicultural environment of the country. However, according to many historians and scholars, including Heinemann-Grüder, it developed as a result of territorial expansion, exploitation, and colonization that began during the Tsarist Empire (2013: 5). It is crucial, for one, to determine to what extent the violence against indigenous peoples has stopped since the end of the Tsarist Empire and whether present-day Russia is repeating the actions of its predecessors.\n",
       "> \n",
       "> Gosart, in her study on structural violence against indigenous communities in contemporary Russia, reveals that structural violence is embedded in the Russian state in its attitude toward indigenous communities. The needs of these communities are separated from the interests and functions of the state, following the path of Soviet-era laws and viewpoints. Therefore, indigenous peoples born on Russian territories are subjected to violence and neglect through state administration and law enforcement (Gosart, 2018: 193).\n",
       "> \n",
       "> Furthermore, indigenous populations are severely declining, and some communities are at risk of extinction. Despite this concern, the “partial mobilization” into the Russian army due to the war in Ukraine, which took place in September 2022, strongly affected primarily indigenous peoples. The first and second waves mobilized young people from Russia’s poorest regions, inhabited mainly by indigenous peoples, even those who are not eligible for military service.\n",
       "> \n",
       "> 1This paper does not consider the annexed and occupied territories of Crimea, Donetsk, Luhansk, Kherson, and Zaporizhia as Russian territory. The author of the thesis deducted these territories from the list.\n",
       "> ---\n",
       "> According to Article 18 of Federal Law No. 31-FZ of 1997, these include: students, the elderly, the disabled, and fathers of three or more children. This move by the Russian state and officials directly threatens physical survival and contributes to decreasing the indigenous population or their extinction. Many activists have called this act a new genocide (ADC Memorial & ICIPR, 2023: 23). The report cites numerous supporting facts and evidence to corroborate this statement. As a case in point, the mortality statistics for soldiers from Russia, presented by the Free Buryatia Foundation, show a disparity in the deaths of mobilized indigenous men compared to those of Moscow. Indigenous activists, thus, concluded that, say, Buryats have a 300 times higher risk of being killed in the war than residents of Moscow despite the population difference (ibid: 24).\n",
       "> \n",
       "> The obvious implication is that the political system in contemporary Russia creates conditions for the continuation and intensification of structural violence against indigenous peoples and their further marginalization. The state can be held responsible for the harsh living conditions, discrimination, and population decrease that indigenous communities face (Gosart, 2018: 257).\n",
       "> \n",
       "> Thus, when discussing Russia’s future, the question of decolonization arises as a way of addressing the ongoing injustice and exploitation, as well as achieving peace in the region and ceasing conflicts."
      ],
      "text/plain": [
       "<IPython.core.display.Markdown object>"
      ]
     },
     "execution_count": 24,
     "metadata": {},
     "output_type": "execute_result"
    }
   ],
   "source": [
    "to_markdown(nodes[1].text)"
   ]
  },
  {
   "cell_type": "markdown",
   "metadata": {},
   "source": [
    "## Embeddings"
   ]
  },
  {
   "cell_type": "code",
   "execution_count": 11,
   "metadata": {},
   "outputs": [],
   "source": [
    "from llama_index.embeddings.gemini import GeminiEmbedding"
   ]
  },
  {
   "cell_type": "code",
   "execution_count": 12,
   "metadata": {},
   "outputs": [],
   "source": [
    "model_name = \"models/embedding-001\"\n",
    "\n",
    "embed_model = GeminiEmbedding(\n",
    "    model_name=model_name, api_key=GEMINIPRO_API_KEY, title=\"this is a document\"\n",
    ")\n",
    "\n",
    "embeddings = embed_model.get_text_embedding(\"Google Gemini Embeddings.\")"
   ]
  },
  {
   "cell_type": "code",
   "execution_count": 13,
   "metadata": {},
   "outputs": [
    {
     "name": "stdout",
     "output_type": "stream",
     "text": [
      "Dimension of embeddings: 768\n"
     ]
    }
   ],
   "source": [
    "print(f\"Dimension of embeddings: {len(embeddings)}\")"
   ]
  },
  {
   "cell_type": "code",
   "execution_count": 14,
   "metadata": {},
   "outputs": [
    {
     "data": {
      "text/plain": [
       "[0.028174246, -0.0290093, -0.013280814, 0.008629, 0.025442218]"
      ]
     },
     "execution_count": 14,
     "metadata": {},
     "output_type": "execute_result"
    }
   ],
   "source": [
    "embeddings[:5]"
   ]
  },
  {
   "cell_type": "code",
   "execution_count": null,
   "metadata": {},
   "outputs": [],
   "source": []
  }
 ],
 "metadata": {
  "kernelspec": {
   "display_name": "google-ai",
   "language": "python",
   "name": "python3"
  },
  "language_info": {
   "codemirror_mode": {
    "name": "ipython",
    "version": 3
   },
   "file_extension": ".py",
   "mimetype": "text/x-python",
   "name": "python",
   "nbconvert_exporter": "python",
   "pygments_lexer": "ipython3",
   "version": "3.10.13"
  }
 },
 "nbformat": 4,
 "nbformat_minor": 2
}
